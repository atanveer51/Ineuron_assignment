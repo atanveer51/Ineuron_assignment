{
  "nbformat": 4,
  "nbformat_minor": 0,
  "metadata": {
    "colab": {
      "name": "Exception handling Assignment.ipynb",
      "provenance": [],
      "collapsed_sections": []
    },
    "kernelspec": {
      "name": "python3",
      "display_name": "Python 3"
    }
  },
  "cells": [
    {
      "cell_type": "markdown",
      "metadata": {
        "id": "C7zFZXoDye6L"
      },
      "source": [
        "**1. Write a function to compute 5/0 and use try/except to catch the exceptions.**"
      ]
    },
    {
      "cell_type": "code",
      "metadata": {
        "id": "FjQ8drJiss2D"
      },
      "source": [
        "def checkexception():\r\n",
        "    try:\r\n",
        "        x = 5 / 0\r\n",
        "    except ZeroDivisionError:\r\n",
        "        return f\"Division by zero gives infinity!\""
      ],
      "execution_count": 1,
      "outputs": []
    },
    {
      "cell_type": "code",
      "metadata": {
        "colab": {
          "base_uri": "https://localhost:8080/",
          "height": 35
        },
        "id": "uSUfYVQOy7B5",
        "outputId": "07319d33-e88c-4369-abf9-88ee501e2d30"
      },
      "source": [
        "checkexception()"
      ],
      "execution_count": 2,
      "outputs": [
        {
          "output_type": "execute_result",
          "data": {
            "application/vnd.google.colaboratory.intrinsic+json": {
              "type": "string"
            },
            "text/plain": [
              "'Division by zero gives infinity!'"
            ]
          },
          "metadata": {
            "tags": []
          },
          "execution_count": 2
        }
      ]
    },
    {
      "cell_type": "markdown",
      "metadata": {
        "id": "A0d0ZVdczM23"
      },
      "source": [
        "**2. Implement a Python program to generate all sentences where subject is in [\"Americans\", \"Indians\"] and verb is in [\"Play\", \"watch\"] and the object is in [\"Baseball\",\"cricket\"].\r\n",
        "Hint: Subject,Verb and Object should be declared in the program as shown below.\r\n",
        "subjects=[\"Americans\",\"Indians\"]\r\n",
        "\r\n",
        "verbs=[\"play\",\"watch\"]\r\n",
        "\r\n",
        "objects=[\"Baseball\",\"Cricket\"]\r\n",
        "\r\n",
        "Output should come as below:\r\n",
        "Americans play Baseball.\r\n",
        "\r\n",
        "Americans play Cricket.\r\n",
        "\r\n",
        "Americans watch Baseball.\r\n",
        "\r\n",
        "Americans watch Cricket.\r\n",
        "\r\n",
        "Indians play Baseball.\r\n",
        "\r\n",
        "Indians play Cricket.\r\n",
        "\r\n",
        "Indians watch Baseball.\r\n",
        "\r\n",
        "Indians watch Cricket.**"
      ]
    },
    {
      "cell_type": "code",
      "metadata": {
        "id": "TbGZe8YHy80W"
      },
      "source": [
        "subjects = [\"Americans\",\"Indians\"]\r\n",
        "verbs = [\"play\",\"watch\"]\r\n",
        "objects = [\"Baseball\",\"Cricket\"]\r\n",
        "\r\n",
        "sentence = [s + \" \" + v + \" \" + o for s in subjects for v in verbs for o in objects]"
      ],
      "execution_count": 3,
      "outputs": []
    },
    {
      "cell_type": "code",
      "metadata": {
        "colab": {
          "base_uri": "https://localhost:8080/"
        },
        "id": "914Z4H6yzd0W",
        "outputId": "babc4c0e-cec5-4427-f9bc-ce3a8faf7bae"
      },
      "source": [
        "for i in sentence:\r\n",
        "    print(i)"
      ],
      "execution_count": 4,
      "outputs": [
        {
          "output_type": "stream",
          "text": [
            "Americans play Baseball\n",
            "Americans play Cricket\n",
            "Americans watch Baseball\n",
            "Americans watch Cricket\n",
            "Indians play Baseball\n",
            "Indians play Cricket\n",
            "Indians watch Baseball\n",
            "Indians watch Cricket\n"
          ],
          "name": "stdout"
        }
      ]
    },
    {
      "cell_type": "code",
      "metadata": {
        "id": "WEtEJhJ5zhQu"
      },
      "source": [
        ""
      ],
      "execution_count": null,
      "outputs": []
    }
  ]
}