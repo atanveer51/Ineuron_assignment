{
  "nbformat": 4,
  "nbformat_minor": 0,
  "metadata": {
    "colab": {
      "name": "numpy assignment.ipynb",
      "provenance": [],
      "collapsed_sections": []
    },
    "kernelspec": {
      "name": "python3",
      "display_name": "Python 3"
    }
  },
  "cells": [
    {
      "cell_type": "markdown",
      "metadata": {
        "id": "h7ZQeloX39Mx"
      },
      "source": [
        "**1. Write a function so that the columns of the output matrix are powers of the input\r\n",
        "vector.\r\n",
        "The order of the powers is determined by the increasing boolean argument. Specifically, when\r\n",
        "increasing is False, the i-th output column is the input vector raised element-wise to the power\r\n",
        "of N - i - 1.\r\n",
        "\r\n",
        "HINT: Such a matrix with a geometric progression in each row is named for Alexandre-\r\n",
        "Theophile Vandermonde. **\r\n"
      ]
    },
    {
      "cell_type": "code",
      "metadata": {
        "id": "t-4JB__H3nLz"
      },
      "source": [
        "import numpy as np\r\n",
        "\r\n",
        "def alexTheoVander(iVector, n, increasing = False):\r\n",
        "  if increasing:\r\n",
        "    oMatrix = np.matrix([x**i for x in iVector for i in range(n)]).reshape(iVector.size, n)\r\n",
        "  else:\r\n",
        "    oMatrix = np.matrix([x**(n-i-1) for x in iVector for i in range(n)]).reshape(iVector.size, n)\r\n",
        "  return oMatrix"
      ],
      "execution_count": 1,
      "outputs": []
    },
    {
      "cell_type": "code",
      "metadata": {
        "id": "3njrNPE44YCR"
      },
      "source": [
        "iVector = np.array([1, 3, 5, 7, 9])\r\n",
        "n = 5"
      ],
      "execution_count": 2,
      "outputs": []
    },
    {
      "cell_type": "code",
      "metadata": {
        "colab": {
          "base_uri": "https://localhost:8080/"
        },
        "id": "UEL_Msle4crF",
        "outputId": "46982a53-d62b-4b7f-f58f-4b3ae830d487"
      },
      "source": [
        "oMtarix_asc = alexTheoVander(iVector, n, True)\r\n",
        "oMtarix_asc"
      ],
      "execution_count": 3,
      "outputs": [
        {
          "output_type": "execute_result",
          "data": {
            "text/plain": [
              "matrix([[   1,    1,    1,    1,    1],\n",
              "        [   1,    3,    9,   27,   81],\n",
              "        [   1,    5,   25,  125,  625],\n",
              "        [   1,    7,   49,  343, 2401],\n",
              "        [   1,    9,   81,  729, 6561]])"
            ]
          },
          "metadata": {
            "tags": []
          },
          "execution_count": 3
        }
      ]
    },
    {
      "cell_type": "code",
      "metadata": {
        "colab": {
          "base_uri": "https://localhost:8080/"
        },
        "id": "649EC1wO4juV",
        "outputId": "c3b9a505-7782-47cc-f0bf-43f03ae41d62"
      },
      "source": [
        "oMtarix_desc = alexTheoVander(iVector, n, False)\r\n",
        "oMtarix_desc"
      ],
      "execution_count": 4,
      "outputs": [
        {
          "output_type": "execute_result",
          "data": {
            "text/plain": [
              "matrix([[   1,    1,    1,    1,    1],\n",
              "        [  81,   27,    9,    3,    1],\n",
              "        [ 625,  125,   25,    5,    1],\n",
              "        [2401,  343,   49,    7,    1],\n",
              "        [6561,  729,   81,    9,    1]])"
            ]
          },
          "metadata": {
            "tags": []
          },
          "execution_count": 4
        }
      ]
    },
    {
      "cell_type": "markdown",
      "metadata": {
        "id": "JVQQX8pH4usq"
      },
      "source": [
        "**Write a function to find moving average in an array over a window:¶\r\n",
        "Test it over [3, 5, 7, 2, 8, 10, 11, 65, 72, 81, 99, 100, 150] and window of 3.**"
      ]
    },
    {
      "cell_type": "code",
      "metadata": {
        "id": "tS59qEgQ4n0F"
      },
      "source": [
        "def movingAverage(inputValue, k):\r\n",
        "  z = 1\r\n",
        "  output = np.convolve(inputValue, np.ones(k), 'valid') / k\r\n",
        "  for i in output:\r\n",
        "    print(\"y{0} = {1:.2f}\".format(z, i))\r\n",
        "    z += 1"
      ],
      "execution_count": 5,
      "outputs": []
    },
    {
      "cell_type": "code",
      "metadata": {
        "colab": {
          "base_uri": "https://localhost:8080/"
        },
        "id": "giTyRSOD4zv6",
        "outputId": "af9028bc-031f-4162-ef8f-bfcc2447f614"
      },
      "source": [
        "inputValue = np.array([3, 5, 7, 2, 8, 10, 11, 65, 72, 81, 99, 100, 150])\r\n",
        "k = 3\r\n",
        "movingAverage(inputValue, k)"
      ],
      "execution_count": 6,
      "outputs": [
        {
          "output_type": "stream",
          "text": [
            "y1 = 5.00\n",
            "y2 = 4.67\n",
            "y3 = 5.67\n",
            "y4 = 6.67\n",
            "y5 = 9.67\n",
            "y6 = 28.67\n",
            "y7 = 49.33\n",
            "y8 = 72.67\n",
            "y9 = 84.00\n",
            "y10 = 93.33\n",
            "y11 = 116.33\n"
          ],
          "name": "stdout"
        }
      ]
    },
    {
      "cell_type": "code",
      "metadata": {
        "id": "bVQIjaXg42-k"
      },
      "source": [
        ""
      ],
      "execution_count": null,
      "outputs": []
    }
  ]
}