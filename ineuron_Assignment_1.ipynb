{
  "nbformat": 4,
  "nbformat_minor": 0,
  "metadata": {
    "colab": {
      "name": "i neuron Assignment 1.ipynb",
      "provenance": [],
      "collapsed_sections": []
    },
    "kernelspec": {
      "name": "python3",
      "display_name": "Python 3"
    }
  },
  "cells": [
    {
      "cell_type": "markdown",
      "metadata": {
        "id": "7g_isAydncl3"
      },
      "source": [
        "**ASSIGNMENT 01**"
      ]
    },
    {
      "cell_type": "markdown",
      "metadata": {
        "id": "tb-rjYddfC0a"
      },
      "source": [
        "**Q 1. write a program which will find all such numbers which are divisible by 7 but are not amultiple of 5, between 2000 and 3200 (both included). The numbers obtained should be printed\n",
        "in a comma-separated sequence on a single line**"
      ]
    },
    {
      "cell_type": "code",
      "metadata": {
        "colab": {
          "base_uri": "https://localhost:8080/"
        },
        "id": "f7gK_LR5fGBV",
        "outputId": "4d1a993b-f2b1-4a70-8dfc-36237a584705"
      },
      "source": [
        "all=[]\n",
        "for x in range(2000, 3201):\n",
        "    if (x%7==0) and (x%5!=0):\n",
        "        all.append(str(x))\n",
        "print (','.join(all))"
      ],
      "execution_count": 12,
      "outputs": [
        {
          "output_type": "stream",
          "text": [
            "2002,2009,2016,2023,2037,2044,2051,2058,2072,2079,2086,2093,2107,2114,2121,2128,2142,2149,2156,2163,2177,2184,2191,2198,2212,2219,2226,2233,2247,2254,2261,2268,2282,2289,2296,2303,2317,2324,2331,2338,2352,2359,2366,2373,2387,2394,2401,2408,2422,2429,2436,2443,2457,2464,2471,2478,2492,2499,2506,2513,2527,2534,2541,2548,2562,2569,2576,2583,2597,2604,2611,2618,2632,2639,2646,2653,2667,2674,2681,2688,2702,2709,2716,2723,2737,2744,2751,2758,2772,2779,2786,2793,2807,2814,2821,2828,2842,2849,2856,2863,2877,2884,2891,2898,2912,2919,2926,2933,2947,2954,2961,2968,2982,2989,2996,3003,3017,3024,3031,3038,3052,3059,3066,3073,3087,3094,3101,3108,3122,3129,3136,3143,3157,3164,3171,3178,3192,3199\n"
          ],
          "name": "stdout"
        }
      ]
    },
    {
      "cell_type": "code",
      "metadata": {
        "id": "izrmeuXHfy1Q"
      },
      "source": [
        ""
      ],
      "execution_count": null,
      "outputs": []
    },
    {
      "cell_type": "markdown",
      "metadata": {
        "id": "FS02fbAFhfZR"
      },
      "source": [
        "**Q 2. Write a Python program to accept the user's first and last name and then getting them printed in the the reverse order with a space between first name and last name.**"
      ]
    },
    {
      "cell_type": "code",
      "metadata": {
        "colab": {
          "base_uri": "https://localhost:8080/"
        },
        "id": "5yaQPoLUheaH",
        "outputId": "c24c26cf-de3b-4a1c-aa92-b6262f067ce2"
      },
      "source": [
        "first_name=input(\"enter first name \")\n",
        "last_name=input(\"enter last Name \")\n",
        "print(\"reverse full name\",last_name+\" \"+first_name)\n",
        "\n",
        "#reverse name with letter\n",
        "first_name = first_name[::-1]\n",
        "last_name = last_name[::-1]\n",
        "print(\"reverse full name with letter\",last_name+\" \"+first_name)"
      ],
      "execution_count": 15,
      "outputs": [
        {
          "output_type": "stream",
          "text": [
            "enter first name tanveer\n",
            "enter last Name alam\n",
            "reverse full name alam tanveer\n",
            "reverse full name with letter mala reevnat\n"
          ],
          "name": "stdout"
        }
      ]
    },
    {
      "cell_type": "code",
      "metadata": {
        "id": "ZKosxTyZiRl3"
      },
      "source": [
        ""
      ],
      "execution_count": null,
      "outputs": []
    },
    {
      "cell_type": "markdown",
      "metadata": {
        "id": "OWNRPTkxiWA3"
      },
      "source": [
        "**Q 3. Write a Python program to find the volume of a sphere with diameter 12 cm.**"
      ]
    },
    {
      "cell_type": "code",
      "metadata": {
        "colab": {
          "base_uri": "https://localhost:8080/"
        },
        "id": "0RRvjz-XidnE",
        "outputId": "f0eaac10-b8df-4688-a361-ced6c762609f"
      },
      "source": [
        "import math\n",
        "# radius=diameter/2 so here radius is 12/2=6\n",
        "radius=6\n",
        "v=4/3*math.pi*radius**3\n",
        "print(\"volume of sphere is:\",v)"
      ],
      "execution_count": 8,
      "outputs": [
        {
          "output_type": "stream",
          "text": [
            "volume of sphere is: 904.7786842338603\n"
          ],
          "name": "stdout"
        }
      ]
    },
    {
      "cell_type": "markdown",
      "metadata": {
        "id": "08-KpxyNnFQV"
      },
      "source": [
        "**TANVEER ALAM**\n",
        "\n"
      ]
    },
    {
      "cell_type": "markdown",
      "metadata": {
        "id": "LZeIhNQ0kEhM"
      },
      "source": [
        "**END**"
      ]
    },
    {
      "cell_type": "code",
      "metadata": {
        "id": "RtvMZavDi_O4"
      },
      "source": [
        "#TANVEER ALAM"
      ],
      "execution_count": 16,
      "outputs": []
    },
    {
      "cell_type": "code",
      "metadata": {
        "id": "VpZvgmHRmBoN"
      },
      "source": [
        ""
      ],
      "execution_count": null,
      "outputs": []
    }
  ]
}