{
  "nbformat": 4,
  "nbformat_minor": 0,
  "metadata": {
    "colab": {
      "name": "python assignment 04.ipynb",
      "provenance": [],
      "collapsed_sections": []
    },
    "kernelspec": {
      "name": "python3",
      "display_name": "Python 3"
    }
  },
  "cells": [
    {
      "cell_type": "markdown",
      "metadata": {
        "id": "BFU-nDAkhqHG"
      },
      "source": [
        "1.1 Write a Python Program(with class concepts) to find the area of the triangle using the below\r\n",
        "formula.\r\n",
        "\r\n",
        "area = (s*(s-a)*(s-b)*(s-c)) ** 0.5\r\n",
        "Function to take the length of the sides of triangle from user should be defined in the parent\r\n",
        "class and function to calculate the area should be defined in subclass.\r\n"
      ]
    },
    {
      "cell_type": "code",
      "metadata": {
        "id": "X3QBsS-YhW0D"
      },
      "source": [
        "class Triangle:\r\n",
        "    def __init__(self):\r\n",
        "        self.a = float(input(\"Enter length of side a \"))\r\n",
        "        self.b = float(input(\"Enter length of side b \"))\r\n",
        "        self.c = float(input(\"Enter length of side c \"))"
      ],
      "execution_count": 2,
      "outputs": []
    },
    {
      "cell_type": "code",
      "metadata": {
        "id": "eRO5mhGnijCf"
      },
      "source": [
        "class Area(Triangle):\r\n",
        "    def area(self):\r\n",
        "        s = (self.a + self.b + self.c) / 2\r\n",
        "        area = (s * (s - self.a)*(s - self.b)*(s - self.c)) ** 0.5\r\n",
        "        print(f\"Area of traingle is {area:.3f} cm\\u00b2\")"
      ],
      "execution_count": 10,
      "outputs": []
    },
    {
      "cell_type": "code",
      "metadata": {
        "colab": {
          "base_uri": "https://localhost:8080/"
        },
        "id": "sVWbsBqyi5LE",
        "outputId": "cdbe63e7-6cca-456d-f4a9-d4df4bb6d662"
      },
      "source": [
        "are = Area()\r\n",
        "are.area()"
      ],
      "execution_count": 12,
      "outputs": [
        {
          "output_type": "stream",
          "text": [
            "Enter length of side a 7\n",
            "Enter length of side b 10\n",
            "Enter length of side c 5\n",
            "Area of traingle is 16.248 cm²\n"
          ],
          "name": "stdout"
        }
      ]
    },
    {
      "cell_type": "markdown",
      "metadata": {
        "id": "i5V5zsHTj5Ji"
      },
      "source": [
        "**1.2 Write a function filter_long_words() that takes a list of words and an integer n and returns\r\n",
        "the list of words that are longer than n.**\r\n"
      ]
    },
    {
      "cell_type": "code",
      "metadata": {
        "id": "upu7z-yVi-YG"
      },
      "source": [
        "def check_long_words(words, n):\r\n",
        "    l = list()\r\n",
        "    for i in words:\r\n",
        "        if len(i) > n:\r\n",
        "            l.append(i)\r\n",
        "    print(f\"Longest words are: {l}\")"
      ],
      "execution_count": 13,
      "outputs": []
    },
    {
      "cell_type": "code",
      "metadata": {
        "colab": {
          "base_uri": "https://localhost:8080/"
        },
        "id": "mIUWqxzXkLFK",
        "outputId": "6cc39bc8-dbcf-49b8-a7da-d56246cb23c8"
      },
      "source": [
        "lst = [\"India\", \"Ineuron\", \"virat\", \"kohli\", \"computer science\", \"machine Learning\"]\r\n",
        "check_long_words(lst, 5)"
      ],
      "execution_count": 15,
      "outputs": [
        {
          "output_type": "stream",
          "text": [
            "Longest words are: ['Ineuron', 'computer science', 'machine Learning']\n"
          ],
          "name": "stdout"
        }
      ]
    },
    {
      "cell_type": "markdown",
      "metadata": {
        "id": "rKC0m3TTkx9h"
      },
      "source": [
        "**2.1 Write a Python program using function concept that maps list of words into a list of integers\r\n",
        "representing the lengths of the corresponding words.**\r\n",
        "\r\n",
        "Hint: If a list [ ab,cde,erty] is passed on to the python function output should come as [2,3,4]\r\n"
      ]
    },
    {
      "cell_type": "code",
      "metadata": {
        "id": "rSjAFQDIkde7"
      },
      "source": [
        "def word_len(words):\r\n",
        "    return len(words)"
      ],
      "execution_count": 16,
      "outputs": []
    },
    {
      "cell_type": "code",
      "metadata": {
        "colab": {
          "base_uri": "https://localhost:8080/"
        },
        "id": "GOt55e5blJ-h",
        "outputId": "f9a1b951-cb1a-46ce-c8e4-9f07c03e8e4c"
      },
      "source": [
        "l = ['ineuron','ab', 'cde', 'erty']\r\n",
        "result = map(word_len, l)\r\n",
        "print(list(result))"
      ],
      "execution_count": 18,
      "outputs": [
        {
          "output_type": "stream",
          "text": [
            "[7, 2, 3, 4]\n"
          ],
          "name": "stdout"
        }
      ]
    },
    {
      "cell_type": "markdown",
      "metadata": {
        "id": "5mBmfqbGlgHy"
      },
      "source": [
        "**2.2 Write a Python function which takes a character (i.e. a string of length 1) and returns True if\r\n",
        "it is a vowel, False otherwise.**"
      ]
    },
    {
      "cell_type": "code",
      "metadata": {
        "id": "5NNJ8onTlUG7"
      },
      "source": [
        "def vowel_check(char):\r\n",
        "    if char == \"a\" or char == \"e\" or char == \"i\" or char == \"o\" or char == \"u\":\r\n",
        "        return True\r\n",
        "    else:\r\n",
        "        return False"
      ],
      "execution_count": 20,
      "outputs": []
    },
    {
      "cell_type": "code",
      "metadata": {
        "colab": {
          "base_uri": "https://localhost:8080/"
        },
        "id": "76bvqGDylrND",
        "outputId": "769e600e-bfc5-4a2f-e82d-80b6f48c81f5"
      },
      "source": [
        "vowel_check(input(\"Input your character \"))"
      ],
      "execution_count": 21,
      "outputs": [
        {
          "output_type": "stream",
          "text": [
            "Input your character k\n"
          ],
          "name": "stdout"
        },
        {
          "output_type": "execute_result",
          "data": {
            "text/plain": [
              "False"
            ]
          },
          "metadata": {
            "tags": []
          },
          "execution_count": 21
        }
      ]
    },
    {
      "cell_type": "code",
      "metadata": {
        "id": "b29_3ah6lzsq"
      },
      "source": [
        ""
      ],
      "execution_count": null,
      "outputs": []
    }
  ]
}