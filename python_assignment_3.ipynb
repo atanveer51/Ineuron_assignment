{
  "nbformat": 4,
  "nbformat_minor": 0,
  "metadata": {
    "colab": {
      "name": "python assignment 3",
      "provenance": [],
      "collapsed_sections": []
    },
    "kernelspec": {
      "name": "python3",
      "display_name": "Python 3"
    }
  },
  "cells": [
    {
      "cell_type": "markdown",
      "metadata": {
        "id": "qfrVGicsjWmu"
      },
      "source": [
        "**1.1 Write a Python Program to implement your own myreduce() function which works exactly\r\n",
        "like Python's built-in function reduce()**\r\n"
      ]
    },
    {
      "cell_type": "code",
      "metadata": {
        "id": "OFMyY_XKjbKm"
      },
      "source": [
        "#sum of first natural no. enter by user\r\n",
        "def myreduce(num):\r\n",
        "    ''' This functionm will return sum of n Natural numbers'''\r\n",
        "    num_list=list(range(1,number+1))\r\n",
        "    sum_of_elements=0\r\n",
        "    \r\n",
        "    for i in num_list:\r\n",
        "        sum_of_elements+=i\r\n",
        "        \r\n",
        "    return num_list,sum_of_elements"
      ],
      "execution_count": 1,
      "outputs": []
    },
    {
      "cell_type": "code",
      "metadata": {
        "colab": {
          "base_uri": "https://localhost:8080/"
        },
        "id": "MyYMigZbkURq",
        "outputId": "1ceb0643-d8db-44fc-e3cf-97111281e660"
      },
      "source": [
        "#input enter by user\r\n",
        "print(\"Input:\")\r\n",
        "number=int(input(\"Please enter  the number :\"))\r\n",
        "output_value=myreduce(number)\r\n",
        "\r\n",
        "#Output\r\n",
        "print(\"Output:\")\r\n",
        "print(\"List of First n Natural numbers are:\",output_value[0])\r\n",
        "print(\"Sum of List elements are :\",output_value[1])"
      ],
      "execution_count": 2,
      "outputs": [
        {
          "output_type": "stream",
          "text": [
            "Input:\n",
            "Please enter  the number :1\n",
            "Output:\n",
            "List of First n Natural numbers are: [1]\n",
            "Sum of List elements are : 1\n"
          ],
          "name": "stdout"
        }
      ]
    },
    {
      "cell_type": "markdown",
      "metadata": {
        "id": "7O2Wi-_GkoJZ"
      },
      "source": [
        "**1.2 Write a Python program to implement your own myfilter() function which works exactly\r\n",
        "like Python's built-in function filter()**"
      ]
    },
    {
      "cell_type": "code",
      "metadata": {
        "colab": {
          "base_uri": "https://localhost:8080/"
        },
        "id": "FxAXN9CSksT9",
        "outputId": "466b78be-1fd3-44f9-9607-1faba60a78eb"
      },
      "source": [
        "#Input \r\n",
        "\r\n",
        "print(\"Input:\")\r\n",
        "number=int(input(\"Please insert the number: \"))\r\n",
        "\r\n",
        "num_list=list(range(1,number+1))\r\n",
        "\r\n",
        "\r\n",
        "def myfilterfn(num_list):\r\n",
        "    '''This function will filter even and odd numbers from list which are multiples of 5 '''\r\n",
        "    num_even_list=[]\r\n",
        "    num_odd_list=[]\r\n",
        "    \r\n",
        "    for i in num_list:\r\n",
        "        if(i%5==0):\r\n",
        "            if(i%2==0):\r\n",
        "                num_even_list.append(i)\r\n",
        "            else:\r\n",
        "                num_odd_list.append(i)\r\n",
        "                \r\n",
        "    return num_even_list,num_odd_list\r\n",
        "\r\n",
        "\r\n",
        "#Function Execution\r\n",
        "output_value=myfilterfn(num_list)\r\n",
        "\r\n",
        "#Output\r\n",
        "\r\n",
        "print(\"Output:\")\r\n",
        "print(\"List of numbers:\",num_list)\r\n",
        "print(\"List of Even numbers, which are multiples of 5 are:\",output_value[0])\r\n",
        "print(\"List of Odd numbers, which are multiples of 5 are:\",output_value[1])"
      ],
      "execution_count": 5,
      "outputs": [
        {
          "output_type": "stream",
          "text": [
            "Input:\n",
            "Please insert the number: 15\n",
            "Output:\n",
            "List of numbers: [1, 2, 3, 4, 5, 6, 7, 8, 9, 10, 11, 12, 13, 14, 15]\n",
            "List of Even numbers, which are multiples of 5 are: [10]\n",
            "List of Odd numbers, which are multiples of 5 are: [5, 15]\n"
          ],
          "name": "stdout"
        }
      ]
    },
    {
      "cell_type": "markdown",
      "metadata": {
        "id": "SSGUgAwKl1sq"
      },
      "source": [
        "**2. Implement List comprehensions to produce the following lists.\r\n",
        "Write List comprehensions to produce the following Lists**"
      ]
    },
    {
      "cell_type": "code",
      "metadata": {
        "colab": {
          "base_uri": "https://localhost:8080/"
        },
        "id": "exC0RHBGln81",
        "outputId": "d9608958-cf21-4bbf-a28f-aaeef7246892"
      },
      "source": [
        "#Solution\r\n",
        "\r\n",
        "#Section 1\r\n",
        "word=\"motihari\"\r\n",
        "#list Comprehension\r\n",
        "output_list=[w.upper() for w in list(word)]\r\n",
        "print(\"Output:\")\r\n",
        "print(output_list)\r\n",
        "\r\n",
        "#Section 2\r\n",
        "word_1=list('xyz')\r\n",
        "word_2=[x*n for x in word_1 for n in range(1,5) ]\r\n",
        "print(word_2)\r\n",
        "\r\n",
        "#Section 3\r\n",
        "word_3=[x*n for n in range(1,5) for x in word_1 ]\r\n",
        "print(word_3)\r\n",
        "\r\n",
        "#Section 4\r\n",
        "number=[2,3,4]\r\n",
        "number_1=[[x+n] for x in number for n in range(0,3)]\r\n",
        "print(number_1)\r\n",
        "\r\n",
        "#Section 5\r\n",
        "number_2=[2,3,4,5]\r\n",
        "number_3=[[x+n for n in range(0,4)] for x in number_2 ]\r\n",
        "print(number_3)\r\n",
        "\r\n",
        "#Section 6\r\n",
        "number_4=[1,2,3]\r\n",
        "number_5= [(b,a) for a in number_4 for b in number_4]\r\n",
        "print(number_5)"
      ],
      "execution_count": 6,
      "outputs": [
        {
          "output_type": "stream",
          "text": [
            "Output:\n",
            "['M', 'O', 'T', 'I', 'H', 'A', 'R', 'I']\n",
            "['x', 'xx', 'xxx', 'xxxx', 'y', 'yy', 'yyy', 'yyyy', 'z', 'zz', 'zzz', 'zzzz']\n",
            "['x', 'y', 'z', 'xx', 'yy', 'zz', 'xxx', 'yyy', 'zzz', 'xxxx', 'yyyy', 'zzzz']\n",
            "[[2], [3], [4], [3], [4], [5], [4], [5], [6]]\n",
            "[[2, 3, 4, 5], [3, 4, 5, 6], [4, 5, 6, 7], [5, 6, 7, 8]]\n",
            "[(1, 1), (2, 1), (3, 1), (1, 2), (2, 2), (3, 2), (1, 3), (2, 3), (3, 3)]\n"
          ],
          "name": "stdout"
        }
      ]
    },
    {
      "cell_type": "code",
      "metadata": {
        "id": "BlQX6iE_mR8r"
      },
      "source": [
        ""
      ],
      "execution_count": null,
      "outputs": []
    }
  ]
}